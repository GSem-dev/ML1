{
 "cells": [
  {
   "cell_type": "markdown",
   "metadata": {},
   "source": [
    "### Алгоритмы интеллектуальной обработки больших объемов данных\n",
    "## Домашнее задание №4 - Градиентный бустинг\n"
   ]
  },
  {
   "cell_type": "markdown",
   "metadata": {},
   "source": [
    "**Общая информация**\n",
    "\n",
    "**Срок сдачи:** 10 мая 2021, 08:30   \n",
    "**Штраф за опоздание:** -2 балла после 08:30 10 мая, -4 балла после 08:30 17 мая, -6 баллов после 08:30 24 мая, -8 баллов после 08:30 31 мая.\n",
    "\n",
    "При отправлении ДЗ указывайте фамилию в названии файла Присылать ДЗ необходимо в виде ссылки на свой github репозиторий на почту ml1.sphere@mail.ru с указанием темы в следующем формате:\n",
    "[ML0221, Задание 4] Фамилия Имя. \n",
    "\n",
    "\n",
    "Используйте данный Ipython Notebook при оформлении домашнего задания."
   ]
  },
  {
   "cell_type": "markdown",
   "metadata": {},
   "source": [
    "##  Считаем производные для функций потерь (1 балл)"
   ]
  },
  {
   "cell_type": "markdown",
   "metadata": {},
   "source": [
    "Мы будем реализовать градиентный бустинг для 3 функций потерь:\n",
    "\n",
    "1) MSE  $L(a(x_i), y_i) = (y_i - a(x_i)) ^ 2$\n",
    "\n",
    "2) Экспоненциальная  $L(a(x_i), y_i) = exp( -a(x_i) y_i), y_i \\in \\{-1, 1\\}$\n",
    "\n",
    "3) Логистическая  $L(a(x_i), y_i) = \\log (1 + exp( -a(x_i) y_i)), y_i \\in \\{-1, 1\\}$\n",
    "\n",
    "где $a(x_i)$ предсказание бустинга на итом объекте. \n",
    "\n",
    "Для каждой функции потерь напишите таргет, на который будет настраиваться каждое дерево в бустинге."
   ]
  },
  {
   "cell_type": "markdown",
   "metadata": {},
   "source": [
    "Ваше решение тут\n",
    "\n",
    "1) $ -\\frac{\\partial L}{\\partial F}(x_i, F_{k-1}(x_i)))^N_{i=1} = -\\frac{(y_i - a(x_i))^2}{\\partial a(x_i)} = -2(y_i - a(x_i)) $\n",
    "\n",
    "2) $-\\frac{\\partial  exp(-a(x_i)  y_i)}{\\partial a(x_i)} = exp(-a(x_i)  y_i) y_i$\n",
    "\n",
    "3) $-\\frac{\\partial  \\log (1 + exp( -a(x_i) y_i)) }{\\partial a(x_i)} = -\\frac{1}{1 + exp( -a(x_i) y_i)} \\frac{\\partial  (1 + exp(-a(x_i)  y_i))}{\\partial a(x_i)} = \\frac{y_i}{1 + exp(a(x_i) y_i)}$"
   ]
  },
  {
   "cell_type": "markdown",
   "metadata": {},
   "source": [
    "##  Реализуем градиентный бустинг (3 балла)"
   ]
  },
  {
   "cell_type": "markdown",
   "metadata": {},
   "source": [
    "Реализуйте класс градиентного бустинга для классификации. Ваша реализация бустинга должна работать по точности не более чем на 5 процентов хуже чем GradientBoostingClassifier из sklearn. \n"
   ]
  },
  {
   "cell_type": "markdown",
   "metadata": {},
   "source": [
    "Детали реализации:\n",
    "\n",
    "-- должно поддерживаться 3 функции потерь\n",
    "\n",
    "-- сами базовые алгоритмы(деревья, линейные модели и тп) реализовать не надо, просто возьмите готовые из sklearn\n",
    "\n",
    "-- в качестве функции потерь для построения одного дерева используйте MSE\n",
    "\n",
    "-- шаг в бустинге можно не подбирать, можно брать константный\n",
    "\n",
    "-- можно брать разные модели в качестве инициализации бустинга\n",
    "\n",
    "-- должны поддерживаться следующие параметры:\n",
    "\n",
    "а) число итераций\n",
    "б) размер шага\n",
    "в) процент случайных фичей при построении одного дерева\n",
    "д) процент случайных объектов при построении одного дерева\n",
    "е) параметры базового алгоритма (передавайте через **kwargs)"
   ]
  },
  {
   "cell_type": "code",
   "execution_count": 1,
   "metadata": {},
   "outputs": [
    {
     "name": "stderr",
     "output_type": "stream",
     "text": [
      "/home/simon/snap/jupyter/common/lib/python3.7/site-packages/joblib/_multiprocessing_helpers.py:45: UserWarning: [Errno 13] Permission denied.  joblib will operate in serial mode\n",
      "  warnings.warn('%s.  joblib will operate in serial mode' % (e,))\n"
     ]
    }
   ],
   "source": [
    "import numpy as np\n",
    "\n",
    "from sklearn.datasets import load_wine\n",
    "from sklearn.ensemble import GradientBoostingClassifier, RandomForestRegressor\n",
    "from sklearn.metrics import accuracy_score\n",
    "from sklearn.model_selection import train_test_split\n",
    "from sklearn.tree import DecisionTreeRegressor\n",
    "\n",
    "from sklearn.model_selection import StratifiedKFold\n",
    "from sklearn import preprocessing\n",
    "from sklearn import utils\n",
    "from sklearn.linear_model import LinearRegression"
   ]
  },
  {
   "cell_type": "code",
   "execution_count": 2,
   "metadata": {},
   "outputs": [],
   "source": [
    "class MyGradientBoostingClassifier:\n",
    "\n",
    "    def __init__(self,\n",
    "                 loss='mse',\n",
    "                 learning_rate=0.1,\n",
    "                 n_estimators=3,\n",
    "                 colsample=1.0,\n",
    "                 subsample=1.0,\n",
    "                 *args, **kwargs):\n",
    "        \"\"\"\n",
    "        loss -- один из 3 лоссов: mse, exp, log\n",
    "        learning_rate -- шаг бустинга\n",
    "        n_estimators -- число итераций\n",
    "        colsample -- процент рандомных признаков при обучнеии одного алгоритма\n",
    "        colsample -- процент рандомных объектов при обучнеии одного алгоритма\n",
    "        args, kwargs -- параметры  базовых моделей\n",
    "        \"\"\"\n",
    "        # Ваш код здесь\n",
    "        self.loss = loss\n",
    "        self.learning_rate = learning_rate\n",
    "        self.n_estimators = n_estimators\n",
    "        self.colsample = colsample\n",
    "        self.subsample = subsample\n",
    "        self.args = args\n",
    "        self.kwargs = kwargs\n",
    "        self._F = []\n",
    "\n",
    "    def _g(self, Fx, y):\n",
    "        if self.loss == 'mse':\n",
    "            return 2 * (y - Fx)\n",
    "        if self.loss == 'exp':\n",
    "            return np.exp(-Fx * y) * y\n",
    "        if self.loss == 'log':\n",
    "            return y / (1 + np.exp(Fx * y))\n",
    "\n",
    "    def _sub(self, X, y):\n",
    "        \"\"\"\n",
    "        для выделения процента рандомных признаков/объектов\n",
    "        \"\"\"\n",
    "        if self.subsample == 1.0:\n",
    "            _X = X\n",
    "            _y = y\n",
    "        else:\n",
    "            end = X.shape[0]-1\n",
    "            size = int(X.shape[0] * self.subsample)\n",
    "            ind = np.random.randint(low=0, high=end, size=size)\n",
    "            tmp = np.ones(X.shape)\n",
    "            tmp[ind] = 0\n",
    "            _X = X * tmp\n",
    "            tmp = np.ones(y.shape)\n",
    "            tmp[ind] = 0\n",
    "            _y = y * tmp \n",
    "        if self.colsample != 1.0:\n",
    "            tmp = [0 for i in range(X.shape[1])]\n",
    "            _col = int(X.shape[1]*self.subsample)\n",
    "            for i in range(_col):\n",
    "                tmp[i] = 1\n",
    "            for i in range(X.shape[0]):\n",
    "                np.random.shuffle(tmp)\n",
    "                _X[i] *= tmp\n",
    "        return _X, _y\n",
    "    \n",
    "    def fit(self,\n",
    "            X, y,\n",
    "            base_model=DecisionTreeRegressor,\n",
    "            init_model=None):\n",
    "        \"\"\"\n",
    "        X -- объекты для обучения:\n",
    "        y -- таргеты для обучения\n",
    "        base_model -- класс базовых моделей, например sklearn.tree.DecisionTreeRegressor\n",
    "        init_model -- класс для первой модели, если None то берем константу (только для посл задания)\n",
    "        \"\"\"\n",
    "        # Ваш код здесь\n",
    "        rate = self.learning_rate\n",
    "        if init_model is None:\n",
    "            # предсказываем как константа\n",
    "            _X, _y = self._sub(X, y)\n",
    "            prediction = np.mean(_y) * np.ones([_y.shape[0]])\n",
    "        else:\n",
    "            # предсказываем на базовой модели\n",
    "            _model = init_model()\n",
    "            _X, _y = self._sub(X, y)\n",
    "            _model.fit(_X, _y)\n",
    "            prediction = _model.predict(X)\n",
    "            self._F.append(_model)\n",
    "        for i in range(self.n_estimators):\n",
    "            _model = base_model(*self.args, **self.kwargs)\n",
    "            if i == 0 and init_model is None:\n",
    "                target = _y\n",
    "            else:\n",
    "                target = self._g(prediction, _y)\n",
    "            _X, _y = self._sub(X, y)\n",
    "            _model.fit(_X, target)\n",
    "            predict = _model.predict(_X)\n",
    "            self._F.append(_model)\n",
    "            prediction += self.learning_rate * predict\n",
    "\n",
    "        \n",
    "    def predict(self, X):\n",
    "        # Ваш код здесь\n",
    "        result = self._F[0].predict(X)\n",
    "        for i in range(1, len(self._F)):\n",
    "            pr = self._F[i].predict(X)\n",
    "            result += self.learning_rate * pr\n",
    "        return np.around(result)\n",
    "\n"
   ]
  },
  {
   "cell_type": "code",
   "execution_count": 3,
   "metadata": {},
   "outputs": [],
   "source": [
    "my_clf = MyGradientBoostingClassifier()\n",
    "clf = GradientBoostingClassifier()"
   ]
  },
  {
   "cell_type": "code",
   "execution_count": 4,
   "metadata": {},
   "outputs": [],
   "source": [
    "wine = load_wine()\n",
    "X_train, X_test, y_train, y_test = train_test_split(wine.data, wine.target, test_size=0.1, stratify=wine.target)"
   ]
  },
  {
   "cell_type": "code",
   "execution_count": 5,
   "metadata": {},
   "outputs": [
    {
     "data": {
      "text/plain": [
       "GradientBoostingClassifier()"
      ]
     },
     "execution_count": 5,
     "metadata": {},
     "output_type": "execute_result"
    }
   ],
   "source": [
    "my_clf.fit(X_train, y_train)\n",
    "clf.fit(X_train, y_train)"
   ]
  },
  {
   "cell_type": "code",
   "execution_count": 12,
   "metadata": {},
   "outputs": [
    {
     "name": "stdout",
     "output_type": "stream",
     "text": [
      "0.8333333333333334\n",
      "0.8888888888888888\n"
     ]
    }
   ],
   "source": [
    "print(accuracy_score(y_pred=clf.predict(X_test), y_true=y_test))\n",
    "print(accuracy_score(y_pred=my_clf.predict(X_test), y_true=y_test))"
   ]
  },
  {
   "cell_type": "markdown",
   "metadata": {},
   "source": [
    "## Подбираем параметры (2 балла)\n",
    "\n",
    "Давайте попробуем применить Ваш бустинг для предсказаний цены домов в Калифорнии. Чтобы можно было попробовтаь разные функции потерь, переведем по порогу таргет в 2 класса: дорогие и дешевые дома."
   ]
  },
  {
   "cell_type": "markdown",
   "metadata": {},
   "source": [
    "В задании нужно\n",
    "\n",
    "1) Построить график точности в зависимости от числа итераций на валидации.\n",
    "\n",
    "2) Подобрать оптимальные параметры Вашего бустинга на валидации. \n"
   ]
  },
  {
   "cell_type": "code",
   "execution_count": 7,
   "metadata": {},
   "outputs": [],
   "source": [
    "# # На моем компьютере первый импорт работает только с этим кодом\n",
    "# import os, ssl\n",
    "# if (not os.environ.get('PYTHONHTTPSVERIFY', '') and\n",
    "#     getattr(ssl, '_create_unverified_context', None)): \n",
    "#     ssl._create_default_https_context = ssl._create_unverified_context"
   ]
  },
  {
   "cell_type": "code",
   "execution_count": 8,
   "metadata": {},
   "outputs": [],
   "source": [
    "from sklearn.datasets import fetch_california_housing\n",
    "X, y = fetch_california_housing(return_X_y=True)"
   ]
  },
  {
   "cell_type": "code",
   "execution_count": 9,
   "metadata": {},
   "outputs": [
    {
     "name": "stdout",
     "output_type": "stream",
     "text": [
      "(20640, 8) (20640,)\n"
     ]
    }
   ],
   "source": [
    "# Превращаем регрессию в классификацию\n",
    "y = (y > 2.0).astype(int)\n",
    "print(X.shape, y.shape)"
   ]
  },
  {
   "cell_type": "code",
   "execution_count": 10,
   "metadata": {},
   "outputs": [],
   "source": [
    "# разделим для тестировки\n",
    "X_trn, y_trn = X[20000:], y[20000:]\n",
    "X_val, y_val = X[:20000], y[:20000]"
   ]
  },
  {
   "cell_type": "code",
   "execution_count": null,
   "metadata": {},
   "outputs": [],
   "source": []
  },
  {
   "cell_type": "markdown",
   "metadata": {
    "collapsed": true
   },
   "source": [
    "## 1)"
   ]
  },
  {
   "cell_type": "code",
   "execution_count": 13,
   "metadata": {},
   "outputs": [],
   "source": [
    "%matplotlib inline\n",
    "import matplotlib.pyplot as plt"
   ]
  },
  {
   "cell_type": "code",
   "execution_count": 14,
   "metadata": {},
   "outputs": [],
   "source": [
    "scores = []\n",
    "est = range(1, 30)\n",
    "\n",
    "for e in est:\n",
    "    my_clf = MyGradientBoostingClassifier(n_estimators=e)\n",
    "    my_clf.fit(X_trn, y_trn)\n",
    "    sc = accuracy_score(y_pred=my_clf.predict(X_val), y_true=y_val)\n",
    "    scores.append(sc)"
   ]
  },
  {
   "cell_type": "code",
   "execution_count": 15,
   "metadata": {},
   "outputs": [
    {
     "data": {
      "text/plain": [
       "[<matplotlib.lines.Line2D at 0x7f40841e2b70>]"
      ]
     },
     "execution_count": 15,
     "metadata": {},
     "output_type": "execute_result"
    },
    {
     "data": {
      "image/png": "[encoded data removed]",
      "text/plain": [
       "<Figure size 936x432 with 1 Axes>"
      ]
     },
     "metadata": {
      "needs_background": "light"
     },
     "output_type": "display_data"
    }
   ],
   "source": [
    "fig = plt.figure(figsize= (13,6))\n",
    "ax = fig.add_subplot(111)\n",
    "ax.set_title(\"График точности на валидации в зависимости от числа итераций\")\n",
    "ax.set_xlabel(\"число итераций\")\n",
    "ax.set_ylabel(\"Score\")\n",
    "\n",
    "ax.plot(est, scores)"
   ]
  },
  {
   "cell_type": "code",
   "execution_count": null,
   "metadata": {},
   "outputs": [],
   "source": [
    "# for i in est:\n",
    "#     print(i, scores[i-1])"
   ]
  },
  {
   "cell_type": "markdown",
   "metadata": {},
   "source": [
    "## 2)"
   ]
  },
  {
   "cell_type": "code",
   "execution_count": 16,
   "metadata": {},
   "outputs": [],
   "source": [
    "kfold = StratifiedKFold(n_splits=3, shuffle=True)"
   ]
  },
  {
   "cell_type": "code",
   "execution_count": null,
   "metadata": {},
   "outputs": [],
   "source": []
  },
  {
   "cell_type": "code",
   "execution_count": 17,
   "metadata": {},
   "outputs": [
    {
     "data": {
      "text/plain": [
       "{'mse': 0.8269864341085271,\n",
       " 'exp': 0.8298449612403102,\n",
       " 'log': 0.8255329457364341}"
      ]
     },
     "execution_count": 17,
     "metadata": {},
     "output_type": "execute_result"
    }
   ],
   "source": [
    "params = ['mse', 'exp', 'log']\n",
    "\n",
    "mean = {i: 0 for i in params} # массив средних значений\n",
    "\n",
    "for p in params:\n",
    "    score = 0\n",
    "    for tr, te in kfold.split(X, y):\n",
    "        my_clf = MyGradientBoostingClassifier(loss=p)\n",
    "        X_tr, X_te = X[tr], X[te]\n",
    "        y_tr, y_te = y[tr], y[te]\n",
    "        my_clf.fit(X_tr, y_tr)\n",
    "        predict = my_clf.predict(X_te)\n",
    "        score += accuracy_score(y_pred=my_clf.predict(X_te), y_true=y_te)\n",
    "    mean[p] = score/3\n",
    "    \n",
    "mean"
   ]
  },
  {
   "cell_type": "code",
   "execution_count": 18,
   "metadata": {},
   "outputs": [
    {
     "data": {
      "text/plain": [
       "{0.05: 0.8281007751937985,\n",
       " 0.1: 0.8312015503875969,\n",
       " 0.2: 0.8285852713178294,\n",
       " 0.5: 0.8354166666666667,\n",
       " 1.0: 0.8326550387596899,\n",
       " 1.3: 0.08880813953488371}"
      ]
     },
     "execution_count": 18,
     "metadata": {},
     "output_type": "execute_result"
    }
   ],
   "source": [
    "params = [0.05, 0.1, 0.2, 0.5, 1.0, 1.3]\n",
    "\n",
    "mean = {i: 0 for i in params} # массив средних значений\n",
    "\n",
    "for p in params:\n",
    "    score = 0\n",
    "    for tr, te in kfold.split(X, y):\n",
    "        my_clf = MyGradientBoostingClassifier(learning_rate=p)\n",
    "        X_tr, X_te = X[tr], X[te]\n",
    "        y_tr, y_te = y[tr], y[te]\n",
    "        my_clf.fit(X_tr, y_tr)\n",
    "        predict = my_clf.predict(X_te)\n",
    "        score += accuracy_score(y_pred=my_clf.predict(X_te), y_true=y_te)\n",
    "    mean[p] = score/3\n",
    "    \n",
    "mean"
   ]
  },
  {
   "cell_type": "code",
   "execution_count": 19,
   "metadata": {},
   "outputs": [
    {
     "data": {
      "text/plain": [
       "{0.4: 0.8274709302325581,\n",
       " 0.6: 0.8242732558139535,\n",
       " 0.8: 0.8311046511627906,\n",
       " 1: 0.8272286821705426}"
      ]
     },
     "execution_count": 19,
     "metadata": {},
     "output_type": "execute_result"
    }
   ],
   "source": [
    "params = [0.4, 0.6, 0.8, 1]\n",
    "\n",
    "mean = {i: 0 for i in params} # массив средних значений\n",
    "\n",
    "for p in params:\n",
    "    score = 0\n",
    "    for tr, te in kfold.split(X, y):\n",
    "        my_clf = MyGradientBoostingClassifier(colsample=p)\n",
    "        X_tr, X_te = X[tr], X[te]\n",
    "        y_tr, y_te = y[tr], y[te]\n",
    "        my_clf.fit(X_tr, y_tr)\n",
    "        predict = my_clf.predict(X_te)\n",
    "        score += accuracy_score(y_pred=my_clf.predict(X_te), y_true=y_te)\n",
    "    mean[p] = score/3\n",
    "    \n",
    "mean"
   ]
  },
  {
   "cell_type": "code",
   "execution_count": 20,
   "metadata": {},
   "outputs": [
    {
     "data": {
      "text/plain": [
       "{0.4: 0.742877906976744,\n",
       " 0.6: 0.7062015503875969,\n",
       " 0.8: 0.6802325581395349,\n",
       " 1: 0.8284399224806202}"
      ]
     },
     "execution_count": 20,
     "metadata": {},
     "output_type": "execute_result"
    }
   ],
   "source": [
    "params = [0.4, 0.6, 0.8, 1]\n",
    "\n",
    "mean = {i: 0 for i in params} # массив средних значений\n",
    "\n",
    "for p in params:\n",
    "    score = 0\n",
    "    for tr, te in kfold.split(X, y):\n",
    "        my_clf = MyGradientBoostingClassifier(subsample=p)\n",
    "        X_tr, X_te = X[tr], X[te]\n",
    "        y_tr, y_te = y[tr], y[te]\n",
    "        my_clf.fit(X_tr, y_tr)\n",
    "        predict = my_clf.predict(X_te)\n",
    "        score += accuracy_score(y_pred=my_clf.predict(X_te), y_true=y_te)\n",
    "    mean[p] = score/3\n",
    "    \n",
    "mean"
   ]
  },
  {
   "cell_type": "markdown",
   "metadata": {},
   "source": [
    "## BooBag BagBoo (1 балл)\n",
    "\n"
   ]
  },
  {
   "cell_type": "markdown",
   "metadata": {},
   "source": [
    "Попробуем объединить бустинг и бэгинг. Давайте\n",
    "\n",
    "1) в качестве базовой модели брать не дерево решений, а случайный лес (из sklearn)\n",
    "\n",
    "2) обучать N бустингов на бустрапированной выборке, а затем предикт усреднять"
   ]
  },
  {
   "cell_type": "markdown",
   "metadata": {},
   "source": [
    "Попробуйте обе этих стратегии на данных из прошлого задания. Получилось ли улучшить качество? Почему?"
   ]
  },
  {
   "cell_type": "code",
   "execution_count": 21,
   "metadata": {},
   "outputs": [],
   "source": [
    "def get_bootstrap_samples(X, y, n_samples=1.0):\n",
    "    indices = np.random.randint(0, len(X), int(len(X)*n_samples))\n",
    "    _X = X[indices]\n",
    "    _y = y[indices]\n",
    "    return _X, _y"
   ]
  },
  {
   "cell_type": "code",
   "execution_count": null,
   "metadata": {},
   "outputs": [],
   "source": []
  },
  {
   "cell_type": "code",
   "execution_count": 22,
   "metadata": {},
   "outputs": [],
   "source": [
    "N = 15\n",
    "boosts = []\n",
    "\n",
    "for i in range(N):\n",
    "    X_bs, y_bs = get_bootstrap_samples(X_trn, y_trn, n_samples=0.3)\n",
    "    my_clf = MyGradientBoostingClassifier()\n",
    "    my_clf.fit(X_bs, y_bs, base_model=RandomForestRegressor)\n",
    "    boosts.append(my_clf)"
   ]
  },
  {
   "cell_type": "code",
   "execution_count": 23,
   "metadata": {},
   "outputs": [
    {
     "name": "stdout",
     "output_type": "stream",
     "text": [
      "0.75595\n"
     ]
    }
   ],
   "source": [
    "predict = None\n",
    "for i in range(N):\n",
    "    pre = boosts[i].predict(X_val)\n",
    "    if predict is None:\n",
    "        predict = np.zeros(pre.shape)\n",
    "    predict += pre\n",
    "pr = np.around(predict / N)\n",
    "\n",
    "print(accuracy_score(y_pred=pr, y_true=y_val))"
   ]
  },
  {
   "cell_type": "code",
   "execution_count": 24,
   "metadata": {},
   "outputs": [
    {
     "name": "stdout",
     "output_type": "stream",
     "text": [
      "0.7525\n"
     ]
    }
   ],
   "source": [
    "my_clf = MyGradientBoostingClassifier()\n",
    "my_clf.fit(X_trn, y_trn, base_model=RandomForestRegressor)\n",
    "print(accuracy_score(y_pred=my_clf.predict(X_val), y_true=y_val))"
   ]
  },
  {
   "cell_type": "markdown",
   "metadata": {},
   "source": [
    "Качество получилось незначительно улучшить. Скорее всего это благодаря большому колличеству моделей"
   ]
  },
  {
   "cell_type": "markdown",
   "metadata": {
    "collapsed": true
   },
   "source": [
    "## Умная инициализация (1 балл)\n",
    "\n",
    "Попробуйте брать в качестве инициализации бустинга не константу, а какой-то алгоритм и уже от его предикта стартовать итерации бустинга. Попробуйте разные модели из sklearn: линейные модели, рандом форест, svm..\n",
    "\n",
    "Получилось ли улучшить качество? Почему?\n",
    "\n"
   ]
  },
  {
   "cell_type": "code",
   "execution_count": 25,
   "metadata": {},
   "outputs": [
    {
     "name": "stdout",
     "output_type": "stream",
     "text": [
      "0.7109\n",
      "0.75145\n"
     ]
    }
   ],
   "source": [
    "# рандом форест\n",
    "my_clf = MyGradientBoostingClassifier()\n",
    "clf = MyGradientBoostingClassifier()\n",
    "my_clf.fit(X_trn, y_trn, init_model=RandomForestRegressor)\n",
    "clf.fit(X_trn, y_trn)\n",
    "print(accuracy_score(y_pred=clf.predict(X_val), y_true=y_val))\n",
    "print(accuracy_score(y_pred=my_clf.predict(X_val), y_true=y_val))"
   ]
  },
  {
   "cell_type": "code",
   "execution_count": 27,
   "metadata": {},
   "outputs": [
    {
     "name": "stdout",
     "output_type": "stream",
     "text": [
      "0.70705\n",
      "0.75385\n"
     ]
    }
   ],
   "source": [
    "# линейная модель\n",
    "my_clf = MyGradientBoostingClassifier()\n",
    "clf = MyGradientBoostingClassifier()\n",
    "my_clf.fit(X_trn, y_trn, init_model=LinearRegression)\n",
    "clf.fit(X_trn, y_trn)\n",
    "print(accuracy_score(y_pred=clf.predict(X_val), y_true=y_val))\n",
    "print(accuracy_score(y_pred=my_clf.predict(X_val), y_true=y_val))"
   ]
  },
  {
   "cell_type": "markdown",
   "metadata": {},
   "source": [
    "Качество получилось улучшить благодаря совокупности из различных моделей.  Если начальный предикт (модель) плохо работает с какими то данными, то уже другой предикт (другая модель) хорошо исправляет его ошибки\n",
    "\n",
    "\n",
    "P.S. наверное любая модель лучше константного предсказания"
   ]
  },
  {
   "cell_type": "markdown",
   "metadata": {},
   "source": [
    "## Фидбек (бесценно)"
   ]
  },
  {
   "cell_type": "markdown",
   "metadata": {},
   "source": [
    "* Какие аспекты обучения  ансамблей Вам показались непонятными? Какое место стоит дополнительно объяснить?"
   ]
  },
  {
   "cell_type": "markdown",
   "metadata": {},
   "source": [
    "### Ваш ответ здесь"
   ]
  },
  {
   "cell_type": "markdown",
   "metadata": {},
   "source": [
    "* Здесь Вы можете оставить отзыв о этой домашней работе или о всем курсе."
   ]
  },
  {
   "cell_type": "markdown",
   "metadata": {},
   "source": [
    "### ВАШ ОТЗЫВ ЗДЕСЬ\n",
    "\n"
   ]
  },
  {
   "cell_type": "code",
   "execution_count": null,
   "metadata": {},
   "outputs": [],
   "source": []
  },
  {
   "cell_type": "code",
   "execution_count": null,
   "metadata": {},
   "outputs": [],
   "source": []
  }
 ],
 "metadata": {
  "anaconda-cloud": {},
  "kernelspec": {
   "display_name": "Python 3",
   "language": "python",
   "name": "python3"
  },
  "language_info": {
   "codemirror_mode": {
    "name": "ipython",
    "version": 3
   },
   "file_extension": ".py",
   "mimetype": "text/x-python",
   "name": "python",
   "nbconvert_exporter": "python",
   "pygments_lexer": "ipython3",
   "version": "3.7.3"
  }
 },
 "nbformat": 4,
 "nbformat_minor": 2
}
