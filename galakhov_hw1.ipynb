{
 "cells": [
  {
   "cell_type": "markdown",
   "metadata": {},
   "source": [
    "**Общая информация**\n",
    "\n",
    "**Срок сдачи:** 29 марта 2021, 08:30 \n",
    "\n",
    "**Штраф за опоздание:** по 1 баллу за 24 часа задержки. Через 5 дней домашнее задание сгорает.\n",
    "\n",
    "При отправлении ДЗ указывайте фамилию в названии файла\n",
    "Присылать ДЗ необходимо в виде ссылки на свой github репозиторий на почту ml1.sphere@mail.ru с указанием темы в следующем формате:\n",
    "\n",
    "[ML0220, Задание 1] Фамилия Имя.\n",
    "\n",
    "Используйте данный Ipython Notebook при оформлении домашнего задания."
   ]
  },
  {
   "cell_type": "markdown",
   "metadata": {},
   "source": [
    "\n",
    "**Штрафные баллы:**\n",
    "\n",
    "1. Отсутствие фамилии в имени скрипта (скрипт должен называться по аналогии со stroykova_hw1.ipynb) -0.5 баллов\n",
    "2. Все строчки должны быть выполнены. Нужно, чтобы output команды можно было увидеть уже в git'е. В противном случае -0.5 баллов\n"
   ]
  },
  {
   "cell_type": "code",
   "execution_count": 1,
   "metadata": {},
   "outputs": [
    {
     "name": "stderr",
     "output_type": "stream",
     "text": [
      "/home/simon/snap/jupyter/common/lib/python3.7/site-packages/joblib/_multiprocessing_helpers.py:45: UserWarning: [Errno 13] Permission denied.  joblib will operate in serial mode\n",
      "  warnings.warn('%s.  joblib will operate in serial mode' % (e,))\n"
     ]
    }
   ],
   "source": [
    "import numpy as np\n",
    "import matplotlib.pyplot as plt\n",
    "\n",
    "import seaborn as sns\n",
    "from sklearn import datasets\n",
    "from sklearn.base import BaseEstimator\n",
    "# from sklearn.datasets import fetch_mldata, fetch_20newsgroups\n",
    "from sklearn.datasets import fetch_openml, fetch_20newsgroups\n",
    "\n",
    "from sklearn.model_selection import train_test_split\n",
    "from sklearn.neighbors import KNeighborsClassifier\n",
    "from sklearn.metrics import accuracy_score\n",
    "\n",
    "# my imports\n",
    "import scipy as sp\n",
    "from scipy.spatial.distance import cdist\n",
    "from sklearn.neighbors import KDTree\n",
    "from scipy.stats import mode\n",
    "from sklearn.feature_extraction.text import CountVectorizer\n",
    "from urllib.request import urlopen\n",
    "from sklearn.model_selection import StratifiedKFold\n",
    "from sklearn.feature_extraction.text import TfidfVectorizer\n",
    "from sklearn.metrics.pairwise import pairwise_distances\n",
    "from sklearn.metrics.pairwise import pairwise_distances_chunked"
   ]
  },
  {
   "cell_type": "markdown",
   "metadata": {},
   "source": [
    "##### Задание 1 (1 балл)\n",
    "Реализовать KNN в классе MyKNeighborsClassifier (обязательное условие: точность не ниже sklearn реализации)\n",
    "Разберитесь самостоятельно, какая мера расстояния используется в KNeighborsClassifier дефолтно и реализуйте свой алгоритм именно с этой мерой. \n",
    "Для подсчета расстояний можно использовать функции [отсюда](https://docs.scipy.org/doc/scipy/reference/spatial.distance.html)"
   ]
  },
  {
   "cell_type": "code",
   "execution_count": 2,
   "metadata": {},
   "outputs": [],
   "source": [
    "class MyKNeighborsClassifier(BaseEstimator):\n",
    "    def __init__(self, n_neighbors, algorithm='brute', metric='minkowski'):\n",
    "        self.n_neighbors = n_neighbors\n",
    "        self.algorithm = algorithm\n",
    "        self.metric = metric\n",
    "\n",
    "    def fit(self, X, y):\n",
    "        if self.algorithm is 'brute':\n",
    "            self.fit_X = X\n",
    "        elif self.algorithm is 'kd_tree':\n",
    "            self.fit_X = KDTree(X)\n",
    "        else:\n",
    "            raise(\"No such algorithm\")\n",
    "        self.fit_y = y\n",
    "\n",
    "    def predict(self, X):\n",
    "        if self.algorithm is 'brute':\n",
    "            indices = np.argpartition(\n",
    "                pairwise_distances(self.fit_X, X, metric=self.metric),\n",
    "                self.n_neighbors,\n",
    "                axis=0\n",
    "            )[:self.n_neighbors, :]\n",
    "            return mode(\n",
    "                np.take_along_axis(self.fit_y.reshape(-1, 1), indices, axis=0),\n",
    "                axis=0\n",
    "            )[0].ravel()\n",
    "\n",
    "        if self.algorithm is 'kd_tree':\n",
    "            indices = self.fit_X.query(\n",
    "                X, k=self.n_neighbors,\n",
    "                return_distance=False\n",
    "            ).T\n",
    "            return mode(\n",
    "                np.take_along_axis(self.fit_y.reshape(-1, 1), indices, axis=0),\n",
    "                axis=0\n",
    "            )[0].ravel()\n"
   ]
  },
  {
   "cell_type": "markdown",
   "metadata": {},
   "source": [
    "**IRIS**\n",
    "\n",
    "В библиотеке scikit-learn есть несколько датасетов из коробки. Один из них [Ирисы Фишера](https://ru.wikipedia.org/wiki/%D0%98%D1%80%D0%B8%D1%81%D1%8B_%D0%A4%D0%B8%D1%88%D0%B5%D1%80%D0%B0)"
   ]
  },
  {
   "cell_type": "code",
   "execution_count": 3,
   "metadata": {},
   "outputs": [],
   "source": [
    "iris = datasets.load_iris()"
   ]
  },
  {
   "cell_type": "code",
   "execution_count": 4,
   "metadata": {},
   "outputs": [],
   "source": [
    "X_train, X_test, y_train, y_test = train_test_split(iris.data, iris.target, test_size=0.1, stratify=iris.target)"
   ]
  },
  {
   "cell_type": "code",
   "execution_count": 5,
   "metadata": {},
   "outputs": [],
   "source": [
    "clf = KNeighborsClassifier(n_neighbors=2, algorithm='brute')\n",
    "my_clf = MyKNeighborsClassifier(n_neighbors=2, algorithm='brute')"
   ]
  },
  {
   "cell_type": "code",
   "execution_count": 6,
   "metadata": {},
   "outputs": [],
   "source": [
    "clf.fit(X_train, y_train)\n",
    "my_clf.fit(X_train, y_train)"
   ]
  },
  {
   "cell_type": "code",
   "execution_count": 7,
   "metadata": {},
   "outputs": [],
   "source": [
    "sklearn_pred = clf.predict(X_test)\n",
    "my_clf_pred = my_clf.predict(X_test)\n",
    "assert abs( accuracy_score(y_test, my_clf_pred) -  accuracy_score(y_test, sklearn_pred ) )<0.005, \"Score must be simillar\""
   ]
  },
  {
   "cell_type": "markdown",
   "metadata": {},
   "source": [
    "**Задание 2 (0.5 балла)**\n",
    "\n",
    "Давайте попробуем добиться скорости работы на fit, predict сравнимой со sklearn для iris. Допускается замедление не более чем в 2 раза. \n",
    "Для этого используем numpy. "
   ]
  },
  {
   "cell_type": "code",
   "execution_count": 8,
   "metadata": {},
   "outputs": [
    {
     "name": "stdout",
     "output_type": "stream",
     "text": [
      "CPU times: user 397 µs, sys: 200 µs, total: 597 µs\n",
      "Wall time: 441 µs\n"
     ]
    },
    {
     "data": {
      "text/plain": [
       "KNeighborsClassifier(algorithm='brute', n_neighbors=2)"
      ]
     },
     "execution_count": 8,
     "metadata": {},
     "output_type": "execute_result"
    }
   ],
   "source": [
    "%time clf.fit(X_train, y_train)"
   ]
  },
  {
   "cell_type": "code",
   "execution_count": 9,
   "metadata": {},
   "outputs": [
    {
     "name": "stdout",
     "output_type": "stream",
     "text": [
      "CPU times: user 3 µs, sys: 2 µs, total: 5 µs\n",
      "Wall time: 6.2 µs\n"
     ]
    }
   ],
   "source": [
    "%time my_clf.fit(X_train, y_train)"
   ]
  },
  {
   "cell_type": "code",
   "execution_count": 10,
   "metadata": {},
   "outputs": [
    {
     "name": "stdout",
     "output_type": "stream",
     "text": [
      "CPU times: user 2.27 ms, sys: 0 ns, total: 2.27 ms\n",
      "Wall time: 1.67 ms\n"
     ]
    },
    {
     "data": {
      "text/plain": [
       "array([2, 0, 2, 1, 2, 0, 1, 1, 1, 0, 2, 2, 0, 1, 0])"
      ]
     },
     "execution_count": 10,
     "metadata": {},
     "output_type": "execute_result"
    }
   ],
   "source": [
    "%time clf.predict(X_test)"
   ]
  },
  {
   "cell_type": "code",
   "execution_count": 11,
   "metadata": {},
   "outputs": [
    {
     "name": "stdout",
     "output_type": "stream",
     "text": [
      "CPU times: user 1.38 ms, sys: 642 µs, total: 2.02 ms\n",
      "Wall time: 1.48 ms\n"
     ]
    },
    {
     "data": {
      "text/plain": [
       "array([2, 0, 2, 1, 2, 0, 1, 1, 1, 0, 2, 2, 0, 1, 0])"
      ]
     },
     "execution_count": 11,
     "metadata": {},
     "output_type": "execute_result"
    }
   ],
   "source": [
    "%time my_clf.predict(X_test)"
   ]
  },
  {
   "cell_type": "markdown",
   "metadata": {},
   "source": [
    "###### Задание 3 (1 балл)\n",
    "Добавьте algorithm='kd_tree' в реализацию KNN (использовать KDTree из sklearn.neighbors). Необходимо добиться скорости работы на fit,  predict сравнимой со sklearn для iris. Допускается замедление не более чем в 2 раза. \n",
    "Для этого используем numpy. Точность не должна уступать значению KNN из sklearn. "
   ]
  },
  {
   "cell_type": "code",
   "execution_count": 12,
   "metadata": {},
   "outputs": [],
   "source": [
    "clf = KNeighborsClassifier(n_neighbors=2, algorithm='kd_tree')\n",
    "my_clf = MyKNeighborsClassifier(n_neighbors=2, algorithm='kd_tree')"
   ]
  },
  {
   "cell_type": "code",
   "execution_count": 13,
   "metadata": {},
   "outputs": [],
   "source": [
    "X_train, X_test, y_train, y_test = train_test_split(iris.data, iris.target, test_size=0.1, stratify=iris.target)"
   ]
  },
  {
   "cell_type": "code",
   "execution_count": 14,
   "metadata": {},
   "outputs": [
    {
     "name": "stdout",
     "output_type": "stream",
     "text": [
      "CPU times: user 1.15 ms, sys: 0 ns, total: 1.15 ms\n",
      "Wall time: 863 µs\n"
     ]
    },
    {
     "data": {
      "text/plain": [
       "KNeighborsClassifier(algorithm='kd_tree', n_neighbors=2)"
      ]
     },
     "execution_count": 14,
     "metadata": {},
     "output_type": "execute_result"
    }
   ],
   "source": [
    "%time clf.fit(X_train, y_train)"
   ]
  },
  {
   "cell_type": "code",
   "execution_count": 15,
   "metadata": {},
   "outputs": [
    {
     "name": "stdout",
     "output_type": "stream",
     "text": [
      "CPU times: user 286 µs, sys: 0 ns, total: 286 µs\n",
      "Wall time: 279 µs\n"
     ]
    }
   ],
   "source": [
    "%time my_clf.fit(X_train, y_train)"
   ]
  },
  {
   "cell_type": "code",
   "execution_count": 16,
   "metadata": {},
   "outputs": [
    {
     "name": "stdout",
     "output_type": "stream",
     "text": [
      "CPU times: user 610 µs, sys: 3.44 ms, total: 4.05 ms\n",
      "Wall time: 2.74 ms\n"
     ]
    },
    {
     "data": {
      "text/plain": [
       "array([2, 2, 2, 0, 2, 0, 1, 1, 1, 1, 0, 0, 0, 2, 1])"
      ]
     },
     "execution_count": 16,
     "metadata": {},
     "output_type": "execute_result"
    }
   ],
   "source": [
    "%time clf.predict(X_test)"
   ]
  },
  {
   "cell_type": "code",
   "execution_count": 17,
   "metadata": {},
   "outputs": [
    {
     "name": "stdout",
     "output_type": "stream",
     "text": [
      "CPU times: user 2.21 ms, sys: 0 ns, total: 2.21 ms\n",
      "Wall time: 1.61 ms\n"
     ]
    },
    {
     "data": {
      "text/plain": [
       "array([2, 2, 2, 0, 2, 0, 1, 1, 1, 1, 0, 0, 0, 2, 1])"
      ]
     },
     "execution_count": 17,
     "metadata": {},
     "output_type": "execute_result"
    }
   ],
   "source": [
    "%time my_clf.predict(X_test)"
   ]
  },
  {
   "cell_type": "code",
   "execution_count": 18,
   "metadata": {},
   "outputs": [],
   "source": [
    "sklearn_pred = clf.predict(X_test)\n",
    "my_clf_pred = my_clf.predict(X_test)\n",
    "assert abs( accuracy_score(y_test, my_clf_pred) -  accuracy_score(y_test, sklearn_pred ) )<0.005, \"Score must be simillar\""
   ]
  },
  {
   "cell_type": "markdown",
   "metadata": {},
   "source": [
    "**Задание 4 (2.5 балла)**\n",
    "\n",
    "Рассмотрим новый датасет 20 newsgroups"
   ]
  },
  {
   "cell_type": "code",
   "execution_count": 19,
   "metadata": {},
   "outputs": [],
   "source": [
    "#  ячейка снизу запускается только с этим импортом\n",
    "import ssl\n",
    "ssl._create_default_https_context = ssl._create_unverified_context"
   ]
  },
  {
   "cell_type": "code",
   "execution_count": 20,
   "metadata": {},
   "outputs": [],
   "source": [
    "newsgroups = fetch_20newsgroups(subset='train',remove=['headers','footers', 'quotes'])"
   ]
  },
  {
   "cell_type": "code",
   "execution_count": 21,
   "metadata": {},
   "outputs": [],
   "source": [
    "data = newsgroups['data']\n",
    "target = newsgroups['target']"
   ]
  },
  {
   "cell_type": "markdown",
   "metadata": {},
   "source": [
    "Преобразуйте текстовые данные из data с помощью [CountVectorizer](https://scikit-learn.org/stable/modules/generated/sklearn.feature_extraction.text.CountVectorizer.html). Словарь можно ограничить по частотности."
   ]
  },
  {
   "cell_type": "code",
   "execution_count": 22,
   "metadata": {},
   "outputs": [],
   "source": [
    "vectorizer = CountVectorizer(min_df = 50, max_df = 0.8)\n",
    "X_count = vectorizer.fit_transform(data)\n",
    "\n",
    "vectorizer_tfidf = TfidfVectorizer(min_df = 50, max_df = 0.8)\n",
    "X_tfidf = vectorizer_tfidf.fit_transform(data)"
   ]
  },
  {
   "cell_type": "markdown",
   "metadata": {},
   "source": [
    "*Так мы получили векторное представление наших текстов. Значит можно приступать к задаче обучения модели*"
   ]
  },
  {
   "cell_type": "markdown",
   "metadata": {},
   "source": [
    "Реализуйте разбиение выборки для кросс-валидации на 3 фолдах. Разрешено использовать sklearn.cross_validation"
   ]
  },
  {
   "cell_type": "code",
   "execution_count": 23,
   "metadata": {},
   "outputs": [
    {
     "name": "stdout",
     "output_type": "stream",
     "text": [
      "test  indices:  [    0     3     4 ... 11305 11306 11311]\n",
      "train indices:  [    1     2     6 ... 11310 11312 11313]\n",
      "\n",
      "test  indices:  [    0     1     2 ... 11310 11312 11313]\n",
      "train indices:  [    3     4     5 ... 11303 11305 11311]\n",
      "\n",
      "test  indices:  [    1     2     3 ... 11311 11312 11313]\n",
      "train indices:  [    0     8    11 ... 11296 11302 11306]\n",
      "\n"
     ]
    }
   ],
   "source": [
    "kfold = StratifiedKFold(n_splits=3, shuffle=True)\n",
    "for indices_trn, indices_tst in kfold.split(X_count, target):\n",
    "    print('test  indices: ', indices_trn)\n",
    "    print('train indices: ', indices_tst)\n",
    "    print('')"
   ]
  },
  {
   "cell_type": "code",
   "execution_count": 24,
   "metadata": {},
   "outputs": [],
   "source": [
    "def kscores(X, y, K=np.arange(1, 11), metric='minkowski', scores_return=True):\n",
    "    kfold = StratifiedKFold(n_splits=3, shuffle=True)\n",
    "    rezult = []\n",
    "    for i in K:\n",
    "        score = 0\n",
    "        for tr, te in kfold.split(X, y):\n",
    "            X_tr, X_te = X[tr], X[te]\n",
    "            y_tr, y_te = y[tr], y[te]\n",
    "            clf = MyKNeighborsClassifier(n_neighbors=i, metric=metric)\n",
    "            clf.fit(X_tr, y_tr)\n",
    "            pred = clf.predict(X_te)\n",
    "            score += accuracy_score(y_te, pred)\n",
    "        rezult.append(score/3)\n",
    "    if scores_return:\n",
    "        return np.argmax(rezult)+1, np.array(rezult)\n",
    "    else:\n",
    "        return np.argmax(rezult)+1"
   ]
  },
  {
   "cell_type": "markdown",
   "metadata": {},
   "source": [
    "Напишите метод, позволяющий найти оптимальное количество ближайших соседей(дающее максимальную точность в среднем на валидации на 3 фолдах).\n",
    "Постройте график зависимости средней точности от количества соседей. Можно рассмотреть число соседей от 1 до 10."
   ]
  },
  {
   "cell_type": "code",
   "execution_count": 25,
   "metadata": {},
   "outputs": [],
   "source": [
    "k = np.arange(1, 11)"
   ]
  },
  {
   "cell_type": "code",
   "execution_count": 26,
   "metadata": {},
   "outputs": [
    {
     "name": "stdout",
     "output_type": "stream",
     "text": [
      "1\n"
     ]
    }
   ],
   "source": [
    "bestk, score_cnt_eu = kscores(X_count, target, K=k, metric='euclidean')\n",
    "print(bestk)"
   ]
  },
  {
   "cell_type": "code",
   "execution_count": 27,
   "metadata": {},
   "outputs": [
    {
     "name": "stdout",
     "output_type": "stream",
     "text": [
      "1\n"
     ]
    }
   ],
   "source": [
    "bestk, score_cnt_cs = kscores(X_count, target, K=k, metric='cosine')\n",
    "print(bestk)"
   ]
  },
  {
   "cell_type": "code",
   "execution_count": 28,
   "metadata": {},
   "outputs": [
    {
     "name": "stdout",
     "output_type": "stream",
     "text": [
      "1\n"
     ]
    }
   ],
   "source": [
    "bestk, score_tfidf_eu = kscores(X_tfidf, target, K=k, metric='euclidean')\n",
    "print(bestk)"
   ]
  },
  {
   "cell_type": "code",
   "execution_count": 29,
   "metadata": {},
   "outputs": [
    {
     "name": "stdout",
     "output_type": "stream",
     "text": [
      "9\n"
     ]
    }
   ],
   "source": [
    "bestk, score_tfidf_cs = kscores(X_tfidf, target, K=k, metric='cosine')\n",
    "print(bestk)"
   ]
  },
  {
   "cell_type": "code",
   "execution_count": 30,
   "metadata": {},
   "outputs": [
    {
     "data": {
      "text/plain": [
       "Text(0, 0.5, 'score')"
      ]
     },
     "execution_count": 30,
     "metadata": {},
     "output_type": "execute_result"
    },
    {
     "data": {
      "image/png": "[encoded data removed]",
      "text/plain": [
       "<Figure size 1008x576 with 4 Axes>"
      ]
     },
     "metadata": {
      "needs_background": "light"
     },
     "output_type": "display_data"
    }
   ],
   "source": [
    "fig = plt.figure(figsize=(14, 8))\n",
    "ax1 = fig.add_subplot(221)\n",
    "ax2 = fig.add_subplot(222)\n",
    "ax3 = fig.add_subplot(223)\n",
    "ax4 = fig.add_subplot(224)\n",
    "\n",
    "ax1.scatter(k, score_cnt_eu, color='r')\n",
    "ax1.set_title(\"Count with euclidean\")\n",
    "ax1.set_ylabel('number of neighbors')\n",
    "\n",
    "ax2.scatter(k, score_cnt_cs, color='r')\n",
    "ax2.set_title(\"Count with cosin\")\n",
    "ax2.set_ylabel('number of neighbors')\n",
    "\n",
    "ax3.scatter(k, score_tfidf_eu)\n",
    "ax3.set_title(\"TF IDF with euclidean\")\n",
    "ax3.set_xlabel('number of neighbors')\n",
    "ax3.set_ylabel('score')\n",
    "\n",
    "ax4.scatter(k, score_tfidf_cs)\n",
    "ax4.set_title(\"TF IDF with cosin\")\n",
    "ax4.set_xlabel('number of neighbors')\n",
    "ax4.set_ylabel('score')\n"
   ]
  },
  {
   "cell_type": "markdown",
   "metadata": {},
   "source": [
    "Как изменится качество на валидации, если:\n",
    "\n",
    "1. Используется косинусная метрика вместо евклидовой.\n",
    "2. К текстам применяется TfIdf векторизацию( sklearn.feature_extraction.text.TfidfVectorizer)\n",
    "\n",
    "Сравните модели, выберите лучшую."
   ]
  },
  {
   "cell_type": "markdown",
   "metadata": {},
   "source": [
    "Загрузим  теперь test  часть нашей выборки и преобразуем её аналогично с train частью. Не забудьте, что наборы слов в train и test части могут отличаться."
   ]
  },
  {
   "cell_type": "code",
   "execution_count": 31,
   "metadata": {},
   "outputs": [],
   "source": [
    "newsgroups = fetch_20newsgroups(subset='test',remove=['headers','footers', 'quotes'])"
   ]
  },
  {
   "cell_type": "markdown",
   "metadata": {},
   "source": [
    "Оценим точность вашей лучшей модели на test части датасета. Отличается ли оно от кросс-валидации? Попробуйте сделать выводы, почему отличается качество."
   ]
  },
  {
   "cell_type": "code",
   "execution_count": 32,
   "metadata": {},
   "outputs": [],
   "source": [
    "test_data = newsgroups['data']\n",
    "test_target = newsgroups['target']"
   ]
  },
  {
   "cell_type": "code",
   "execution_count": 33,
   "metadata": {},
   "outputs": [],
   "source": [
    "X_test_tfidf = vectorizer_tfidf.transform(test_data)"
   ]
  },
  {
   "cell_type": "code",
   "execution_count": 34,
   "metadata": {},
   "outputs": [
    {
     "data": {
      "text/plain": [
       "0.459506107275624"
      ]
     },
     "execution_count": 34,
     "metadata": {},
     "output_type": "execute_result"
    }
   ],
   "source": [
    "clf = MyKNeighborsClassifier(n_neighbors=bestk, metric='cosine')\n",
    "clf.fit(X_tfidf, target)\n",
    "clf_pred = clf.predict(X_test_tfidf)\n",
    "\n",
    "accuracy_score(test_target, clf_pred)"
   ]
  },
  {
   "cell_type": "markdown",
   "metadata": {},
   "source": [
    "## Выводы\n",
    "* разряженность матриц положительно повлияла на качество алгоритма;\n",
    "\n",
    "* для анализа текста оказалось лучше использовать косинусную метрику, поскольку она определяет не расстояние, а похожесть двух текстов;\n",
    "\n",
    "* использование $TF \\ IDF$ позволило значительно улучшить качество предсказания, поскольку позволяет оценить значимость слова для данного текста, а не просто факт его наличия;\n",
    "\n",
    "* анализируя полученные графики, можно заметить, что для евклидовой метрики число $ k = 1 $ наилучший параметр. Предполагаю, что это связано с поиском именно **совпадающих** слов, поскольку в этом случае они похоже по словесному содержанию, но смысловые их части различаются. Иначе обстоит дело с косинусной метрикой. В этом случае выбирабтся наиболее **схожие** тексты. В этом случае, при увеличении числа рассматриваемых соседей до определенного $k$ улучшается качество прогноза, однако при дальнейшем увеличении качество падает, поскольку возникает \"переобучение\" ;\n",
    "\n",
    "* точность на тесте оказалась ниже, чем точность на валидации. В первую очередь это связано с появлением в тестовой выборке новых слов (новых значимых слов), отсутствующих в тренировочной выборке и ограниченностью самой тестовой выборки. В то же время на качество повлияло ограничение частот словоря (см. замечание) в силу снижения репрезентативности и так ограниченной выборки. \n",
    "\n",
    "Предполагаю, что низкая точность полученна из за:\n",
    "* использования непараметрического алгоритма;\n",
    "* большой разницы в числе экземпляров классов (экземпляров 10 класса 600, а экземпляров 19 класса 377).\n"
   ]
  },
  {
   "cell_type": "markdown",
   "metadata": {},
   "source": [
    "**Замечание** \n",
    "* ограничение словаря по частотности заметно влияет на качество решения. Скорее всего это связано с выбрасыванием из рассмотрения редко встречаемых, но важных (ключевых) слов. При этом для такого словаря наиболее оптимальный параметр k = 1. Но в этом случае решение на тестовой выборке сильно отличается от валидации (для бо'льшего k различие не столь существенное)"
   ]
  },
  {
   "cell_type": "code",
   "execution_count": 35,
   "metadata": {},
   "outputs": [
    {
     "data": {
      "text/plain": [
       "0.6340852130325815"
      ]
     },
     "execution_count": 35,
     "metadata": {},
     "output_type": "execute_result"
    }
   ],
   "source": [
    "accuracy_score(\n",
    "    test_target[test_target == 10],\n",
    "    clf_pred[test_target == 10]\n",
    ")"
   ]
  },
  {
   "cell_type": "code",
   "execution_count": 36,
   "metadata": {},
   "outputs": [
    {
     "data": {
      "text/plain": [
       "0.1952191235059761"
      ]
     },
     "execution_count": 36,
     "metadata": {},
     "output_type": "execute_result"
    }
   ],
   "source": [
    "accuracy_score(\n",
    "    test_target[test_target == 19],\n",
    "    clf_pred[test_target == 19]\n",
    ")"
   ]
  },
  {
   "cell_type": "code",
   "execution_count": 37,
   "metadata": {},
   "outputs": [],
   "source": [
    "vectorizer = CountVectorizer()\n",
    "X_count = vectorizer.fit_transform(data)\n",
    "\n",
    "vectorizer_tfidf = TfidfVectorizer()\n",
    "X_tfidf = vectorizer_tfidf.fit_transform(data)"
   ]
  },
  {
   "cell_type": "code",
   "execution_count": 38,
   "metadata": {},
   "outputs": [
    {
     "name": "stdout",
     "output_type": "stream",
     "text": [
      "1\n"
     ]
    }
   ],
   "source": [
    "bestk, score_cnt_eu = kscores(X_count, target, K=k, metric='euclidean')\n",
    "print(bestk)"
   ]
  },
  {
   "cell_type": "code",
   "execution_count": 39,
   "metadata": {},
   "outputs": [
    {
     "name": "stdout",
     "output_type": "stream",
     "text": [
      "1\n"
     ]
    }
   ],
   "source": [
    "bestk, score_cnt_cs = kscores(X_count, target, K=k, metric='cosine')\n",
    "print(bestk)"
   ]
  },
  {
   "cell_type": "code",
   "execution_count": 40,
   "metadata": {},
   "outputs": [
    {
     "name": "stdout",
     "output_type": "stream",
     "text": [
      "1\n"
     ]
    }
   ],
   "source": [
    "bestk, score_tfidf_eu = kscores(X_tfidf, target, K=k, metric='euclidean')\n",
    "print(bestk)"
   ]
  },
  {
   "cell_type": "code",
   "execution_count": 41,
   "metadata": {},
   "outputs": [
    {
     "name": "stdout",
     "output_type": "stream",
     "text": [
      "1\n"
     ]
    }
   ],
   "source": [
    "bestk, score_tfidf_cs = kscores(X_tfidf, target, K=k, metric='cosine')\n",
    "print(bestk)"
   ]
  },
  {
   "cell_type": "code",
   "execution_count": 42,
   "metadata": {},
   "outputs": [
    {
     "data": {
      "text/plain": [
       "Text(0, 0.5, 'score')"
      ]
     },
     "execution_count": 42,
     "metadata": {},
     "output_type": "execute_result"
    },
    {
     "data": {
      "image/png": "[encoded data removed]",
      "text/plain": [
       "<Figure size 1008x576 with 4 Axes>"
      ]
     },
     "metadata": {
      "needs_background": "light"
     },
     "output_type": "display_data"
    }
   ],
   "source": [
    "fig = plt.figure(figsize=(14, 8))\n",
    "ax1 = fig.add_subplot(221)\n",
    "ax2 = fig.add_subplot(222)\n",
    "ax3 = fig.add_subplot(223)\n",
    "ax4 = fig.add_subplot(224)\n",
    "\n",
    "ax1.scatter(k, score_cnt_eu, color='r')\n",
    "ax1.set_title(\"Count with euclidean\")\n",
    "ax1.set_ylabel('number of neighbors')\n",
    "\n",
    "ax2.scatter(k, score_cnt_cs, color='r')\n",
    "ax2.set_title(\"Count with cosin\")\n",
    "ax2.set_ylabel('number of neighbors')\n",
    "\n",
    "ax3.scatter(k, score_tfidf_eu)\n",
    "ax3.set_title(\"TF IDF with euclidean\")\n",
    "ax3.set_xlabel('number of neighbors')\n",
    "ax3.set_ylabel('score')\n",
    "\n",
    "ax4.scatter(k, score_tfidf_cs)\n",
    "ax4.set_title(\"TF IDF with cosin\")\n",
    "ax4.set_xlabel('number of neighbors')\n",
    "ax4.set_ylabel('score')"
   ]
  },
  {
   "cell_type": "code",
   "execution_count": 43,
   "metadata": {},
   "outputs": [],
   "source": [
    "X_test_tfidf = vectorizer_tfidf.transform(test_data)"
   ]
  },
  {
   "cell_type": "code",
   "execution_count": 44,
   "metadata": {},
   "outputs": [
    {
     "data": {
      "text/plain": [
       "0.5088953797132236"
      ]
     },
     "execution_count": 44,
     "metadata": {},
     "output_type": "execute_result"
    }
   ],
   "source": [
    "clf = MyKNeighborsClassifier(n_neighbors=bestk, metric='cosine')\n",
    "clf.fit(X_tfidf, target)\n",
    "clf_pred = clf.predict(X_test_tfidf)\n",
    "\n",
    "accuracy_score(test_target, clf_pred)"
   ]
  },
  {
   "cell_type": "code",
   "execution_count": null,
   "metadata": {},
   "outputs": [],
   "source": []
  }
 ],
 "metadata": {
  "kernelspec": {
   "display_name": "Python 3",
   "language": "python",
   "name": "python3"
  },
  "language_info": {
   "codemirror_mode": {
    "name": "ipython",
    "version": 3
   },
   "file_extension": ".py",
   "mimetype": "text/x-python",
   "name": "python",
   "nbconvert_exporter": "python",
   "pygments_lexer": "ipython3",
   "version": "3.7.3"
  }
 },
 "nbformat": 4,
 "nbformat_minor": 2
}
